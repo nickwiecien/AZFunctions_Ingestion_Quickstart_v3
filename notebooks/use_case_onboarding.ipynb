{
 "cells": [
  {
   "cell_type": "markdown",
   "metadata": {},
   "source": [
    "# Use Case Onboarding\n",
    "\n",
    "Sample notebook demonstrating how to utilize the deployed functions to:\n",
    "- Create a new index\n",
    "- List all files within a target Azure Storage container\n",
    "- Trigger ingestion and indexing of that collection of files into the target storage index\n",
    "- Retrieve a list of all chunks which have been added into the target index\n",
    "\n",
    "Note: Before running this notebook, you will need to have deployed the Azure Durable Functions project to an Azure Function App environment as well as all associated resources (Azure AI Search, Azure Storage, Azure OpenAI, Azure Document Intelligence)."
   ]
  },
  {
   "cell_type": "markdown",
   "metadata": {},
   "source": [
    "### Environment Variable Configuration\n",
    "\n",
    "Create a `.env` file in your working directory with the following key-value pairs. We will load these into code using the `python-dotenv` library. "
   ]
  },
  {
   "cell_type": "code",
   "execution_count": 1,
   "metadata": {},
   "outputs": [],
   "source": [
    "import os\n",
    "from dotenv import load_dotenv\n",
    "import requests\n",
    "import json\n",
    "from IPython.display import clear_output\n",
    "import time\n",
    "import pandas as pd\n",
    "\n",
    "load_dotenv(override=True)\n",
    "\n",
    "function_uri = os.getenv(\"FUNCTION_URI\")\n",
    "function_key = os.getenv(\"FUNCTION_KEY\")"
   ]
  },
  {
   "cell_type": "markdown",
   "metadata": {},
   "source": [
    "### Define Execution Variables\n",
    "\n",
    "Below, create a stem name for a new Azure AI Search Index and fields that will be used in index creation. Further, define Azure Storage containers which contain source documents and which will contain extracted chunks, respectively. "
   ]
  },
  {
   "cell_type": "code",
   "execution_count": 2,
   "metadata": {},
   "outputs": [],
   "source": [
    "# Index Creation Settings\n",
    "index_stem_name = 'test-index'\n",
    "fields = {\n",
    "    \"content\": \"string\", \"pagenumber\": \"int\", \"sourcefile\": \"string\", \n",
    "    \"sourcefilepath\": \"string\",\"sourcepage\": \"string\", \"category\": \"string\"\n",
    "}\n",
    "embedding_dimensions = 3072 # Update according to the embedding model used (3072 for text-embedding-large-003; 1536 for text-embedding-ada-002)\n",
    "\n",
    "# Data Source Settings\n",
    "source_container = 'a-test-source'\n",
    "extract_container = 'a-test-extract'\n",
    "\n",
    "# Ingestion Settings\n",
    "automatically_delete = False\n",
    "analyze_images = True\n",
    "overlapping_chunks = False\n",
    "chunk_size = 800\n",
    "chunk_overlap = 200\n",
    "cosmos_logging = False"
   ]
  },
  {
   "cell_type": "markdown",
   "metadata": {},
   "source": [
    "### Step 1 - Create New Index\n",
    "\n",
    "Trigger the `create_new_index` function and store the created index name"
   ]
  },
  {
   "cell_type": "code",
   "execution_count": 3,
   "metadata": {},
   "outputs": [
    {
     "name": "stdout",
     "output_type": "stream",
     "text": [
      "test-index-20241030151722\n"
     ]
    }
   ],
   "source": [
    "create_index_uri = f\"{function_uri}/api/create_new_index?code={function_key}\"\n",
    "create_index_payload = {\n",
    "    \"index_stem_name\": index_stem_name,\n",
    "    \"fields\": fields,\n",
    "    \"dimensions\": embedding_dimensions\n",
    "}\n",
    "\n",
    "response = requests.post(create_index_uri, json=create_index_payload)\n",
    "index_name = response.text\n",
    "print(index_name)"
   ]
  },
  {
   "cell_type": "markdown",
   "metadata": {},
   "source": [
    "### Step 2 - List Files in Source Container"
   ]
  },
  {
   "cell_type": "code",
   "execution_count": 4,
   "metadata": {},
   "outputs": [
    {
     "data": {
      "text/plain": [
       "['ge_ar2023_annualreport.pdf', 'ge_ar23_10-k.pdf']"
      ]
     },
     "execution_count": 4,
     "metadata": {},
     "output_type": "execute_result"
    }
   ],
   "source": [
    "list_files_uri = f\"{function_uri}/api/list_files_in_container?code={function_key}\"\n",
    "\n",
    "response = requests.post(list_files_uri, json={\"container\": source_container})\n",
    "files = response.json()\n",
    "files"
   ]
  },
  {
   "cell_type": "markdown",
   "metadata": {},
   "source": [
    "### Step 3 - Trigger Ingestion for all Files and Await Completion"
   ]
  },
  {
   "cell_type": "code",
   "execution_count": 5,
   "metadata": {},
   "outputs": [
    {
     "name": "stdout",
     "output_type": "stream",
     "text": [
      "All Blobs Processed\n",
      "Succeeded: 2\n"
     ]
    },
    {
     "data": {
      "text/html": [
       "<div>\n",
       "<style scoped>\n",
       "    .dataframe tbody tr th:only-of-type {\n",
       "        vertical-align: middle;\n",
       "    }\n",
       "\n",
       "    .dataframe tbody tr th {\n",
       "        vertical-align: top;\n",
       "    }\n",
       "\n",
       "    .dataframe thead th {\n",
       "        text-align: right;\n",
       "    }\n",
       "</style>\n",
       "<table border=\"1\" class=\"dataframe\">\n",
       "  <thead>\n",
       "    <tr style=\"text-align: right;\">\n",
       "      <th></th>\n",
       "      <th>status_uri</th>\n",
       "      <th>submitted</th>\n",
       "      <th>completed</th>\n",
       "      <th>error</th>\n",
       "      <th>status</th>\n",
       "    </tr>\n",
       "  </thead>\n",
       "  <tbody>\n",
       "    <tr>\n",
       "      <th>ge_ar2023_annualreport.pdf</th>\n",
       "      <td>https://rkgenaiazfunc.azurewebsites.net/runtim...</td>\n",
       "      <td>True</td>\n",
       "      <td>True</td>\n",
       "      <td></td>\n",
       "      <td>Completed</td>\n",
       "    </tr>\n",
       "    <tr>\n",
       "      <th>ge_ar23_10-k.pdf</th>\n",
       "      <td>https://rkgenaiazfunc.azurewebsites.net/runtim...</td>\n",
       "      <td>True</td>\n",
       "      <td>True</td>\n",
       "      <td></td>\n",
       "      <td>Completed</td>\n",
       "    </tr>\n",
       "  </tbody>\n",
       "</table>\n",
       "</div>"
      ],
      "text/plain": [
       "                                                                   status_uri  \\\n",
       "ge_ar2023_annualreport.pdf  https://rkgenaiazfunc.azurewebsites.net/runtim...   \n",
       "ge_ar23_10-k.pdf            https://rkgenaiazfunc.azurewebsites.net/runtim...   \n",
       "\n",
       "                           submitted completed error     status  \n",
       "ge_ar2023_annualreport.pdf      True      True        Completed  \n",
       "ge_ar23_10-k.pdf                True      True        Completed  "
      ]
     },
     "metadata": {},
     "output_type": "display_data"
    },
    {
     "name": "stdout",
     "output_type": "stream",
     "text": [
      "\n",
      "Failed: 0\n"
     ]
    },
    {
     "data": {
      "text/html": [
       "<div>\n",
       "<style scoped>\n",
       "    .dataframe tbody tr th:only-of-type {\n",
       "        vertical-align: middle;\n",
       "    }\n",
       "\n",
       "    .dataframe tbody tr th {\n",
       "        vertical-align: top;\n",
       "    }\n",
       "\n",
       "    .dataframe thead th {\n",
       "        text-align: right;\n",
       "    }\n",
       "</style>\n",
       "<table border=\"1\" class=\"dataframe\">\n",
       "  <thead>\n",
       "    <tr style=\"text-align: right;\">\n",
       "      <th></th>\n",
       "    </tr>\n",
       "  </thead>\n",
       "  <tbody>\n",
       "  </tbody>\n",
       "</table>\n",
       "</div>"
      ],
      "text/plain": [
       "Empty DataFrame\n",
       "Columns: []\n",
       "Index: []"
      ]
     },
     "metadata": {},
     "output_type": "display_data"
    }
   ],
   "source": [
    "def start_processing(blob_name, index_name):\n",
    "    body_template = {\n",
    "        'source_container': source_container,\n",
    "        'extract_container': extract_container,\n",
    "        'prefix_path':'',\n",
    "        'index_name': index_name,\n",
    "        'automatically_delete': automatically_delete,\n",
    "        'analyze_images': analyze_images,\n",
    "        'overlapping_chunks': overlapping_chunks,\n",
    "        'chunk_size': chunk_size,\n",
    "        'chunk_overlap': chunk_overlap,\n",
    "        'cosmos_logging': cosmos_logging\n",
    "    }\n",
    "\n",
    "    body = body_template.copy()\n",
    "    body['prefix_path'] = blob_name\n",
    "    function_uri = f'{os.environ[\"FUNCTION_URI\"]}/api/orchestrators/pdf_orchestrator?code={os.environ[\"FUNCTION_KEY\"]}'\n",
    "    response = requests.post(function_uri, json=(body))\n",
    "    return response.json()['statusQueryGetUri']\n",
    "\n",
    "def get_status(status_uri):\n",
    "    response = requests.get(status_uri)\n",
    "    status = response.json()['runtimeStatus']\n",
    "    error = ''\n",
    "    if status == 'Failed':\n",
    "        error = response.json()['output']\n",
    "    return status, error\n",
    "\n",
    "\n",
    "# Submit all files for ingestion\n",
    "tracking_dict = {}\n",
    "\n",
    "for blob in files:\n",
    "    blob_name = blob\n",
    "    tracking_dict[blob_name] = {}\n",
    "    status_uri = start_processing(blob_name, index_name)\n",
    "    tracking_dict[blob_name]['status_uri'] = status_uri\n",
    "    tracking_dict[blob_name]['submitted'] = True\n",
    "    tracking_dict[blob_name]['completed'] = False\n",
    "    status, error = get_status(status_uri)\n",
    "    tracking_dict[blob_name]['error'] = error\n",
    "    tracking_dict[blob_name]['status'] = status\n",
    "\n",
    "print(f'Submitted {str(len(tracking_dict))} blobs for processing')\n",
    "\n",
    "while True:\n",
    "    all_complete = True\n",
    "    total_complete = 0\n",
    "    for k,v in tracking_dict.items():\n",
    "        status, error = get_status(v['status_uri'])\n",
    "        v['status'] = status\n",
    "        v['error'] = error\n",
    "        if v['status'] == 'Completed':\n",
    "            v['completed'] = True\n",
    "            total_complete += 1\n",
    "        elif v['status'] == 'Failed': \n",
    "            # Logic to proceed forward WITHOUT retrying failed blobs\n",
    "            status, error = get_status(status_uri)\n",
    "            v['error'] = error\n",
    "            v['status'] = status\n",
    "            v['completed'] = True\n",
    "            total_complete +=1\n",
    "\n",
    "            # Logic to retry failed blobs\n",
    "            # status_uri = start_processing(k)\n",
    "            # v['status_uri'] = status_uri\n",
    "            # v['submitted'] = True\n",
    "            # v['completed'] = False\n",
    "        else:\n",
    "            all_complete = False\n",
    "    clear_output(wait=True)\n",
    "    print(f'Completed: {total_complete}/{len(tracking_dict)}')\n",
    "    display(pd.DataFrame(tracking_dict).T)\n",
    "    if all_complete:\n",
    "        break\n",
    "    time.sleep(10)\n",
    "\n",
    "clear_output(wait=True)\n",
    "print('All Blobs Processed')\n",
    "succeeded = len([k for k,v in tracking_dict.items() if v['status'] == 'Completed'])\n",
    "failed = len([k for k,v in tracking_dict.items() if v['status'] != 'Completed'])\n",
    "\n",
    "print(f'Succeeded: {succeeded}')\n",
    "succeeded_dict = {k: v for k, v in tracking_dict.items() if v['status'] == 'Completed'}\n",
    "display(pd.DataFrame(succeeded_dict).T)\n",
    "print()\n",
    "print(f'Failed: {failed}')\n",
    "failed_dict = {k: v for k, v in tracking_dict.items() if v['status'] != 'Completed'}\n",
    "display(pd.DataFrame(failed_dict).T)\n"
   ]
  },
  {
   "cell_type": "markdown",
   "metadata": {},
   "source": [
    "### Step 3.5 (Optional) - Attempt to Resubmit Failed Files\n",
    "\n",
    "Uncommend the logic below and execute"
   ]
  },
  {
   "cell_type": "code",
   "execution_count": 6,
   "metadata": {},
   "outputs": [],
   "source": [
    "# for k,v in failed_dict.items():\n",
    "#     status_uri = start_processing(k)\n",
    "#     v['status_uri'] = status_uri\n",
    "#     v['submitted'] = True\n",
    "#     v['completed'] = False\n",
    "\n",
    "# while True:\n",
    "#     all_complete = True\n",
    "#     total_complete = 0\n",
    "#     for k,v in failed_dict.items():\n",
    "#         status, error = get_status(v['status_uri'])\n",
    "#         v['status'] = status\n",
    "#         v['error'] = error\n",
    "#         if v['status'] == 'Completed':\n",
    "#             v['completed'] = True\n",
    "#             total_complete += 1\n",
    "#         elif v['status'] == 'Failed': # Resubmit\n",
    "#             status_uri = start_processing(k)\n",
    "#             v['status_uri'] = status_uri\n",
    "#             v['submitted'] = True\n",
    "#             v['completed'] = False\n",
    "#             status, error = get_status(status_uri)\n",
    "#             v['error'] = error\n",
    "#             v['status'] = status\n",
    "#             v['completed'] = True\n",
    "#             total_complete +=1\n",
    "#         else:\n",
    "#             all_complete = False\n",
    "#     clear_output(wait=True)\n",
    "#     print(f'Completed: {total_complete}/{len(failed_dict)}')\n",
    "#     display(pd.DataFrame(failed_dict).T)\n",
    "#     if all_complete:\n",
    "#         break\n",
    "#     time.sleep(10)\n"
   ]
  },
  {
   "cell_type": "markdown",
   "metadata": {},
   "source": [
    "### Step 4 - Run 'Sync Index' to Retrieve a List of all Indexed Content"
   ]
  },
  {
   "cell_type": "code",
   "execution_count": 16,
   "metadata": {},
   "outputs": [
    {
     "name": "stdout",
     "output_type": "stream",
     "text": [
      "Indexed Content - test-index-20241030151722\n"
     ]
    },
    {
     "data": {
      "text/html": [
       "<div>\n",
       "<style scoped>\n",
       "    .dataframe tbody tr th:only-of-type {\n",
       "        vertical-align: middle;\n",
       "    }\n",
       "\n",
       "    .dataframe tbody tr th {\n",
       "        vertical-align: top;\n",
       "    }\n",
       "\n",
       "    .dataframe thead th {\n",
       "        text-align: right;\n",
       "    }\n",
       "</style>\n",
       "<table border=\"1\" class=\"dataframe\">\n",
       "  <thead>\n",
       "    <tr style=\"text-align: right;\">\n",
       "      <th></th>\n",
       "      <th>id</th>\n",
       "      <th>sourcefile</th>\n",
       "      <th>sourcepage</th>\n",
       "    </tr>\n",
       "  </thead>\n",
       "  <tbody>\n",
       "    <tr>\n",
       "      <th>0</th>\n",
       "      <td>f2c3fa0657712f36ffbbdf233879cbfe4c0e74740001f7...</td>\n",
       "      <td>ge_ar2023_annualreport.pdf</td>\n",
       "      <td>ge_ar2023_annualreport_page_1.pdf</td>\n",
       "    </tr>\n",
       "    <tr>\n",
       "      <th>1</th>\n",
       "      <td>21ec8e86254c304629416f3c91513386fae274e8f8cc7e...</td>\n",
       "      <td>ge_ar2023_annualreport.pdf</td>\n",
       "      <td>ge_ar2023_annualreport_page_10.pdf</td>\n",
       "    </tr>\n",
       "    <tr>\n",
       "      <th>2</th>\n",
       "      <td>2ad71cec3cc45cb6050e8d25c7dce1ee0b657d0dfd4570...</td>\n",
       "      <td>ge_ar2023_annualreport.pdf</td>\n",
       "      <td>ge_ar2023_annualreport_page_11.pdf</td>\n",
       "    </tr>\n",
       "    <tr>\n",
       "      <th>3</th>\n",
       "      <td>c9a5a3dfbba872c6d0d392c91de84343c3801710676248...</td>\n",
       "      <td>ge_ar2023_annualreport.pdf</td>\n",
       "      <td>ge_ar2023_annualreport_page_12.pdf</td>\n",
       "    </tr>\n",
       "    <tr>\n",
       "      <th>4</th>\n",
       "      <td>f76ef7fa91824225a884db455f6162d3578afdb80bee26...</td>\n",
       "      <td>ge_ar2023_annualreport.pdf</td>\n",
       "      <td>ge_ar2023_annualreport_page_13.pdf</td>\n",
       "    </tr>\n",
       "    <tr>\n",
       "      <th>...</th>\n",
       "      <td>...</td>\n",
       "      <td>...</td>\n",
       "      <td>...</td>\n",
       "    </tr>\n",
       "    <tr>\n",
       "      <th>181</th>\n",
       "      <td>ee949e698783139283554d8862b61d78da682b81fdb635...</td>\n",
       "      <td>ge_ar23_10-k.pdf</td>\n",
       "      <td>ge_ar23_10-k_page_84.pdf</td>\n",
       "    </tr>\n",
       "    <tr>\n",
       "      <th>182</th>\n",
       "      <td>5904754e05a8e4d106ea6c597386e134a3c741dd6c9c10...</td>\n",
       "      <td>ge_ar23_10-k.pdf</td>\n",
       "      <td>ge_ar23_10-k_page_85.pdf</td>\n",
       "    </tr>\n",
       "    <tr>\n",
       "      <th>183</th>\n",
       "      <td>828ea1ba36147596cfc8a391b4171bf402130568b93364...</td>\n",
       "      <td>ge_ar23_10-k.pdf</td>\n",
       "      <td>ge_ar23_10-k_page_86.pdf</td>\n",
       "    </tr>\n",
       "    <tr>\n",
       "      <th>184</th>\n",
       "      <td>0299586756e567dc97db446d1a2eb336a1d9b8c7240deb...</td>\n",
       "      <td>ge_ar23_10-k.pdf</td>\n",
       "      <td>ge_ar23_10-k_page_87.pdf</td>\n",
       "    </tr>\n",
       "    <tr>\n",
       "      <th>185</th>\n",
       "      <td>614aa05474626b65e56941c4308aaf5531b0bf6b4635e3...</td>\n",
       "      <td>ge_ar23_10-k.pdf</td>\n",
       "      <td>ge_ar23_10-k_page_9.pdf</td>\n",
       "    </tr>\n",
       "  </tbody>\n",
       "</table>\n",
       "<p>186 rows × 3 columns</p>\n",
       "</div>"
      ],
      "text/plain": [
       "                                                    id  \\\n",
       "0    f2c3fa0657712f36ffbbdf233879cbfe4c0e74740001f7...   \n",
       "1    21ec8e86254c304629416f3c91513386fae274e8f8cc7e...   \n",
       "2    2ad71cec3cc45cb6050e8d25c7dce1ee0b657d0dfd4570...   \n",
       "3    c9a5a3dfbba872c6d0d392c91de84343c3801710676248...   \n",
       "4    f76ef7fa91824225a884db455f6162d3578afdb80bee26...   \n",
       "..                                                 ...   \n",
       "181  ee949e698783139283554d8862b61d78da682b81fdb635...   \n",
       "182  5904754e05a8e4d106ea6c597386e134a3c741dd6c9c10...   \n",
       "183  828ea1ba36147596cfc8a391b4171bf402130568b93364...   \n",
       "184  0299586756e567dc97db446d1a2eb336a1d9b8c7240deb...   \n",
       "185  614aa05474626b65e56941c4308aaf5531b0bf6b4635e3...   \n",
       "\n",
       "                     sourcefile                          sourcepage  \n",
       "0    ge_ar2023_annualreport.pdf   ge_ar2023_annualreport_page_1.pdf  \n",
       "1    ge_ar2023_annualreport.pdf  ge_ar2023_annualreport_page_10.pdf  \n",
       "2    ge_ar2023_annualreport.pdf  ge_ar2023_annualreport_page_11.pdf  \n",
       "3    ge_ar2023_annualreport.pdf  ge_ar2023_annualreport_page_12.pdf  \n",
       "4    ge_ar2023_annualreport.pdf  ge_ar2023_annualreport_page_13.pdf  \n",
       "..                          ...                                 ...  \n",
       "181            ge_ar23_10-k.pdf            ge_ar23_10-k_page_84.pdf  \n",
       "182            ge_ar23_10-k.pdf            ge_ar23_10-k_page_85.pdf  \n",
       "183            ge_ar23_10-k.pdf            ge_ar23_10-k_page_86.pdf  \n",
       "184            ge_ar23_10-k.pdf            ge_ar23_10-k_page_87.pdf  \n",
       "185            ge_ar23_10-k.pdf             ge_ar23_10-k_page_9.pdf  \n",
       "\n",
       "[186 rows x 3 columns]"
      ]
     },
     "execution_count": 16,
     "metadata": {},
     "output_type": "execute_result"
    }
   ],
   "source": [
    "sync_index_uri = f\"{function_uri}/api/orchestrators/sync_index_orchestrator?code={function_key}\"\n",
    "response = requests.post(sync_index_uri, json={\"index_name\": index_name, \"extract_container\": extract_container})\n",
    "status_uri = response.json()['statusQueryGetUri']\n",
    "\n",
    "while True:\n",
    "    status, error = get_status(status_uri)\n",
    "    if status == 'Completed':\n",
    "        clear_output(wait=True)\n",
    "        break\n",
    "    clear_output(wait=True)\n",
    "    print(f'Status: {status}')\n",
    "    print(f'Error: {error}')\n",
    "    time.sleep(10)\n",
    "\n",
    "output = requests.get(status_uri)\n",
    "index_content = output.json()['output']['index_content']\n",
    "print(f'Indexed Content: {index_name}')\n",
    "pd.DataFrame(index_content)\n",
    "# Optional: save as CSV\n",
    "# pd.DataFrame(index_content).to_csv(f'{index_name}.csv', index=False)\n",
    "\n",
    "# Prints full list of indexed content\n",
    "# print(json.dumps(output.json()['output']['index_content'], indent=2))"
   ]
  }
 ],
 "metadata": {
  "kernelspec": {
   "display_name": "Python 3",
   "language": "python",
   "name": "python3"
  },
  "language_info": {
   "codemirror_mode": {
    "name": "ipython",
    "version": 3
   },
   "file_extension": ".py",
   "mimetype": "text/x-python",
   "name": "python",
   "nbconvert_exporter": "python",
   "pygments_lexer": "ipython3",
   "version": "3.11.9"
  }
 },
 "nbformat": 4,
 "nbformat_minor": 2
}
